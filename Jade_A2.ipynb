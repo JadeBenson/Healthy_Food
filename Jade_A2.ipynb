{
 "cells": [
  {
   "cell_type": "markdown",
   "id": "d7ce7928-f5ef-425d-bb81-c08224817b7c",
   "metadata": {},
   "source": [
    "# Assignment 2"
   ]
  },
  {
   "cell_type": "markdown",
   "id": "c150ff50-ca30-4681-866b-c8fae265a7ea",
   "metadata": {},
   "source": [
    "## Jade Benson"
   ]
  },
  {
   "cell_type": "markdown",
   "id": "9766646f-f096-4b74-a2c1-09401ea57780",
   "metadata": {},
   "source": [
    "This notebook is a pilot study for my final project in the 2022 class \"Cultural Patterns\" where I use computational methods to identify cultural trends. "
   ]
  },
  {
   "cell_type": "markdown",
   "id": "97788edc-ba40-4423-9f92-f503ccc29c54",
   "metadata": {},
   "source": [
    "## Research Question and Motivation"
   ]
  },
  {
   "cell_type": "markdown",
   "id": "e4d12d94-291d-4b0d-8bc2-0fd6015664bd",
   "metadata": {},
   "source": [
    "I am interested in how different groups discuss their relationships with food online, particularly how specific foods are moralized and constructed to be \"healthy.\" The fitness community has many subgroups that demonize certain food groups, primarily carbs which can be seen in diet trends like \"Keto,\" \"Paleo,\" and \"Counting Macros.\" Even something so simple as describing highly processed foods as \"junk\" conveys a moral argument about the worth of certain foods, and by extension, the worth of the people who regularly consume them. This moralistic rhetoric, often accompanied by images of idealized bodies or bodies to shame (or both in before-and-afters), can inspire restrictive dieting and fears surrounding certain foods and bodies. But opposition groups have also arisen to try to combat this ideology, like the body positive movement. This community tries to celebrate bodies of diverse sizes, shapes, and abilities while removing moralistic associations with food to allow for an \"intuitive\" eating relationship that tries to reduce the stress of other eating practices. There is perhaps even a third community of professionals (dietians, public health officials, doctors) who acknowledge the need of moderate diets to address the consequences of obesity (particularly in the US), but how this problem is larger than just eating and includes food deserts, economic inequality, easy access to nutrient deficient foods, and corporate incentives. These communities have competing definitions of what constitutes \"healthy.\" \n",
    "\n",
    "In this research project, I aim to use Twitter data to identify how people describe and conceptualize \"healthy\" food and eating and how this differs across subgroups. I am also interested in whether these subgroups are interconnected - is there cross-talk across these groups or are they relatively distinct with separate cultures and understandings of health? Does the professional group attempt to infilitrate fitness influencer or body positive conversations as a part of public health campaigns to give people access to other types of food/diet information? Do certain fitness/diet groups co-op the language of \"obesity\" and \"obesity crisis\" as a moralistic term aimed at scaring people into particular ways of eating? Does the body positive movement discredit the metrics and tools of other communities (BMI, calorie counting) to re-establish their own understanding of healthy? I am interested in computationally analyzing these conversations to better understand how healthy food and eating are constructed online. "
   ]
  },
  {
   "cell_type": "markdown",
   "id": "20dd0d7c-59be-4660-ab7b-42b17cf9c6a5",
   "metadata": {},
   "source": [
    "## Data Sources and Methods "
   ]
  },
  {
   "cell_type": "markdown",
   "id": "64d05ce3-33bb-491c-8e57-a9fd80d4ab26",
   "metadata": {},
   "source": [
    "I am planning on using the Twitter API to scrape tweets related to these groups and topics of healthy eating and food. I think Twitter is perhaps the best social media site to use for this project because it includes so many diverse groups on the same platform. It also primarily centers around text conversations which allows us to better see how people are talking about these subjects. The replies/mentions can be easily analyzed too so we can see whether there is cross-talk or if the groups are distinct. I have also conducted a prior project using the Twitter API and scraping data, so I feel more comfortable conducting this analysis in the short time frame. \n",
    "\n",
    "I think Tiktok may skew a little younger and more informal so would likely have fitness and body positive content, but perhaps not professionals. It also centers around videos more so than text and I'm interested in how people talk about these concepts - but it would be interesting to expand my skill set to try to get video transcriptions or how the images in videos relate to their short descriptions/tags. Reddit would be another option, but I am less familar with the pages that I would need to scrape to effectively cover these conversations. This might make a good backup plan though as I am a little concerned that searching Twitter for \"healthy\" right now may return more COVID content than food (I'll try to address this with conditions). Reddit might allow for more granular searches. "
   ]
  },
  {
   "cell_type": "markdown",
   "id": "dfe77c07-bf90-420c-8440-8214ed576f91",
   "metadata": {},
   "source": [
    "## Data Gathering"
   ]
  },
  {
   "cell_type": "markdown",
   "id": "4b4f83fc-ccb9-4111-be6c-fa783e3dff82",
   "metadata": {},
   "source": [
    "In this section, I'll use the Twitter API to scrape tweets for a preliminary analysis. In the final version, I plan on expanding the number of Tweets scraped, perhaps the search criteria, and maybe more in-depth information about the users and their networks. "
   ]
  },
  {
   "cell_type": "code",
   "execution_count": 17,
   "id": "d46e1c44-c70f-4929-878d-28e25a2f6a67",
   "metadata": {},
   "outputs": [],
   "source": [
    "import tweepy\n",
    "from tweepy import OAuthHandler\n",
    "\n",
    "import requests\n",
    "\n",
    "import pandas as pd\n",
    "import csv\n",
    "import re\n",
    "import string\n",
    "import time\n"
   ]
  },
  {
   "cell_type": "code",
   "execution_count": null,
   "id": "99d064f4-1b2c-4a65-a2b9-66dd33fa2976",
   "metadata": {},
   "outputs": [],
   "source": [
    "#have to update this for new Twitter API \n",
    "#https://towardsdatascience.com/an-extensive-guide-to-collecting-tweets-from-twitter-api-v2-for-academic-research-using-python-3-518fcb71df2a\n",
    "#https://github.com/twitterdev/Twitter-API-v2-sample-code/blob/1fd23117345cd1dc3e75c7d69efae994e929c279/Full-Archive-Search/full-archive-search.py"
   ]
  },
  {
   "cell_type": "code",
   "execution_count": 49,
   "id": "f3e562bc-09f8-4c63-99c9-81625b7d0b96",
   "metadata": {},
   "outputs": [],
   "source": [
    "#Jade's Twitter 2.0 info \n",
    "\n",
    "#these API tokens might need regeneration\n",
    "#api_token = \"1393223500832382977-1AjGzeeo4Ue6PgFb0bV7ipOvwTezBF\" \n",
    "#api_token_secret = \"rSTeeGm2el1kFwC8kuyqK9upG3DGiCHKbMyyjix9lYNUl\"\n",
    "\n",
    "#access_token = \"1393223500832382977-pXEzv2zITWvZpbUyGhxgjv6FyadfjJ\"\n",
    "#access_token_secret = \"CJ3T7qSw43CgkMi0CC5Ecb8tiZMIA246xjnhkV8Qy1Ppv\"\n",
    "\n",
    "bearer_token = \"AAAAAAAAAAAAAAAAAAAAAK%2FyZAEAAAAAknoZzdqGK6OIOejAHvMLFwAZ%2FaA%3DNm5WcRTGkrng2Jxg0ZQzuWfUGsqr1kJMtZKVuvSFMrjWsRiNPQ\"\n",
    "#from viral sentiments: bearer_token=\"AAAAAAAAAAAAAAAAAAAAAKROPwEAAAAArHftxA3yStRytXjFAYSPUj7180Y%3DTU6cQLajxIvPmhPDuxh0SQ5mMsjW7QbZYs6CyR8PNjDFwj8yMN\""
   ]
  },
  {
   "cell_type": "code",
   "execution_count": 50,
   "id": "c99a151b-1772-4c9e-a811-2fd55514296c",
   "metadata": {},
   "outputs": [],
   "source": [
    "def bearer_oauth(r):\n",
    "    \"\"\"\n",
    "    Method required by bearer token authentication.\n",
    "    \"\"\"\n",
    "\n",
    "    r.headers[\"Authorization\"] = f\"Bearer {bearer_token}\"\n",
    "    r.headers[\"User-Agent\"] = \"v2FullArchiveSearchPython\"\n",
    "    return r"
   ]
  },
  {
   "cell_type": "code",
   "execution_count": 71,
   "id": "3d91cfeb-e8ec-4722-a1d9-e5a626c9ee5a",
   "metadata": {},
   "outputs": [],
   "source": [
    "#create the URL to search the API (search/recent)\n",
    "#https://developer.twitter.com/en/docs/twitter-api/tweets/search/integrate/build-a-query\n",
    "\n",
    "#build a query guide \n",
    "#https://developer.twitter.com/en/docs/twitter-api/tweets/search/integrate/build-a-query \n",
    "\n",
    "#params for recent search \n",
    "#https://developer.twitter.com/en/docs/twitter-api/tweets/search/api-reference/get-tweets-search-recent\n",
    "\n",
    "def connect_to_endpoint(my_query):\n",
    "    \n",
    "    search_url = \"https://api.twitter.com/2/tweets/search/recent\"\n",
    "    \n",
    "    params = {'query': my_query,\n",
    "            'max_results': max_results,\n",
    "            'expansions': \"author_id,referenced_tweets.id,referenced_tweets.id.author_id,entities.mentions.username,in_reply_to_user_id,geo.place_id\",\n",
    "            'tweet.fields': 'id,text,author_id,in_reply_to_user_id,geo,conversation_id,created_at,lang,public_metrics,referenced_tweets,reply_settings',\n",
    "            'user.fields': 'description,id,location,name,url,username,verified',\n",
    "            'max_results' : 100,\n",
    "            'next_token': {}}\n",
    "    \n",
    "    response = requests.request(\"GET\", search_url, auth=bearer_oauth, params=params)\n",
    "    \n",
    "    if response.status_code != 200:\n",
    "        raise Exception(response.status_code, response.text)\n",
    "    return response.json()"
   ]
  },
  {
   "cell_type": "code",
   "execution_count": 92,
   "id": "fa3a9948-532f-426c-88b7-f4790710de18",
   "metadata": {},
   "outputs": [],
   "source": [
    "#this will need to  be worked on\n",
    "my_query = \"((healthy food) OR (diet eat) OR (lose weight) OR (bodypositive OR intuitive eating) OR (obesity) OR (keto OR paleo OR macros OR calories )) lang:en\""
   ]
  },
  {
   "cell_type": "code",
   "execution_count": 93,
   "id": "e6564dcc-fe4c-4c9c-b2b0-dfe9c1428c7d",
   "metadata": {},
   "outputs": [],
   "source": [
    "my_json  = connect_to_endpoint(my_query)"
   ]
  },
  {
   "cell_type": "code",
   "execution_count": 109,
   "id": "dc9775c7-ccf2-4c7d-a504-5ce59f6df769",
   "metadata": {},
   "outputs": [],
   "source": [
    " df_tweets = pd.DataFrame(columns = ['tweet_id',\n",
    "                                        'author_id',\n",
    "                                        'tweet_created_at',\n",
    "                                        'conversation_id',\n",
    "                                        'text',\n",
    "                                        'retweets', \n",
    "                                         'replies', \n",
    "                                         'likes', \n",
    "                                         'quotes', \n",
    "                                         'type_reference',\n",
    "                                         'referenced_tweet',\n",
    "                                         'replied_to_user', \n",
    "                                         'mentions_dict',\n",
    "                                         'thread_dict'                                     \n",
    "                                       ])\n",
    "\n",
    "for r in my_json['data']: \n",
    "    tweet_id = r['id']\n",
    "    author_id = r['author_id']\n",
    "    tweet_time = r['created_at']\n",
    "    convo_id = r['conversation_id']\n",
    "    \n",
    "    tweet_text = r['text']\n",
    "    \n",
    "    num_retweets = r['public_metrics']['retweet_count']\n",
    "    num_replies = r['public_metrics']['reply_count']\n",
    "    num_likes = r['public_metrics']['like_count']\n",
    "    num_quotes = r['public_metrics']['quote_count']\n",
    "    \n",
    "    if 'referenced_tweets' in r: \n",
    "        type_reference = r['referenced_tweets'][0]['type']\n",
    "        referenced_tweet = r['referenced_tweets'][0]['id']\n",
    "        \n",
    "        if type_reference == 'replied_to':\n",
    "            replied_to_user = r['in_reply_to_user_id']\n",
    "        else: \n",
    "            replied_to_user = None\n",
    "    else:\n",
    "        type_reference = None\n",
    "        referenced_tweet = None\n",
    "    \n",
    "    #just add the dictionaries to df for now \n",
    "    #can figure out if/how to keep these later\n",
    "    if 'entities' in r: \n",
    "        mentions_dict = r['entities']\n",
    "    else: \n",
    "        mentions_dict = None \n",
    "    \n",
    "    if 'includes' in r: \n",
    "        includes_dict = r['includes']\n",
    "    else: \n",
    "        includes_dict = None\n",
    "        \n",
    "        \n",
    "    \n",
    "     # Add the 11 variables to the empty list - ith_tweet:\n",
    "    ith_tweet = [tweet_id,\n",
    "                 author_id,\n",
    "                 tweet_time,\n",
    "                 convo_id, \n",
    "                 tweet_text,\n",
    "                 num_retweets, \n",
    "                 num_replies, \n",
    "                 num_likes, \n",
    "                 num_quotes, \n",
    "                 type_reference, \n",
    "                 referenced_tweet, \n",
    "                 replied_to_user, \n",
    "                 mentions_dict, \n",
    "                 includes_dict\n",
    "                 ]\n",
    "    # Append to dataframe - db_tweets\n",
    "    df_tweets.loc[len(df_tweets)] = ith_tweet\n",
    "            "
   ]
  },
  {
   "cell_type": "code",
   "execution_count": 111,
   "id": "77a72aa3-43fb-4942-bf39-e6eb3599d6bb",
   "metadata": {},
   "outputs": [
    {
     "data": {
      "text/plain": [
       "100"
      ]
     },
     "execution_count": 111,
     "metadata": {},
     "output_type": "execute_result"
    }
   ],
   "source": [
    "len(df_tweets)"
   ]
  },
  {
   "cell_type": "code",
   "execution_count": 110,
   "id": "0bafd2f5-298d-47a5-9218-962a1878b237",
   "metadata": {},
   "outputs": [
    {
     "data": {
      "text/html": [
       "<div>\n",
       "<style scoped>\n",
       "    .dataframe tbody tr th:only-of-type {\n",
       "        vertical-align: middle;\n",
       "    }\n",
       "\n",
       "    .dataframe tbody tr th {\n",
       "        vertical-align: top;\n",
       "    }\n",
       "\n",
       "    .dataframe thead th {\n",
       "        text-align: right;\n",
       "    }\n",
       "</style>\n",
       "<table border=\"1\" class=\"dataframe\">\n",
       "  <thead>\n",
       "    <tr style=\"text-align: right;\">\n",
       "      <th></th>\n",
       "      <th>tweet_id</th>\n",
       "      <th>author_id</th>\n",
       "      <th>tweet_created_at</th>\n",
       "      <th>conversation_id</th>\n",
       "      <th>text</th>\n",
       "      <th>retweets</th>\n",
       "      <th>replies</th>\n",
       "      <th>likes</th>\n",
       "      <th>quotes</th>\n",
       "      <th>type_reference</th>\n",
       "      <th>referenced_tweet</th>\n",
       "      <th>replied_to_user</th>\n",
       "      <th>mentions_dict</th>\n",
       "      <th>thread_dict</th>\n",
       "    </tr>\n",
       "  </thead>\n",
       "  <tbody>\n",
       "    <tr>\n",
       "      <th>0</th>\n",
       "      <td>1493332804993699841</td>\n",
       "      <td>1417926026831794185</td>\n",
       "      <td>2022-02-14T21:14:20.000Z</td>\n",
       "      <td>1493332804993699841</td>\n",
       "      <td>RT @ProfPatch83: More than 40% of food in the ...</td>\n",
       "      <td>1</td>\n",
       "      <td>0</td>\n",
       "      <td>0</td>\n",
       "      <td>0</td>\n",
       "      <td>retweeted</td>\n",
       "      <td>1493049922932858880</td>\n",
       "      <td>None</td>\n",
       "      <td>{'mentions': [{'start': 3, 'end': 15, 'usernam...</td>\n",
       "      <td>None</td>\n",
       "    </tr>\n",
       "    <tr>\n",
       "      <th>1</th>\n",
       "      <td>1493332804876349443</td>\n",
       "      <td>794162692311265281</td>\n",
       "      <td>2022-02-14T21:14:20.000Z</td>\n",
       "      <td>1493332804876349443</td>\n",
       "      <td>Want the benefits of a healthy #WholeFood diet...</td>\n",
       "      <td>0</td>\n",
       "      <td>0</td>\n",
       "      <td>0</td>\n",
       "      <td>0</td>\n",
       "      <td>None</td>\n",
       "      <td>None</td>\n",
       "      <td>None</td>\n",
       "      <td>None</td>\n",
       "      <td>None</td>\n",
       "    </tr>\n",
       "    <tr>\n",
       "      <th>2</th>\n",
       "      <td>1493332803349630976</td>\n",
       "      <td>852039149037076480</td>\n",
       "      <td>2022-02-14T21:14:19.000Z</td>\n",
       "      <td>1493332803349630976</td>\n",
       "      <td>The clean eating plan ebook: You'll Find Out H...</td>\n",
       "      <td>0</td>\n",
       "      <td>0</td>\n",
       "      <td>0</td>\n",
       "      <td>0</td>\n",
       "      <td>None</td>\n",
       "      <td>None</td>\n",
       "      <td>None</td>\n",
       "      <td>None</td>\n",
       "      <td>None</td>\n",
       "    </tr>\n",
       "    <tr>\n",
       "      <th>3</th>\n",
       "      <td>1493332796516884482</td>\n",
       "      <td>373561824</td>\n",
       "      <td>2022-02-14T21:14:18.000Z</td>\n",
       "      <td>1493332796516884482</td>\n",
       "      <td>RT @docsquiddy: at least when disney removes t...</td>\n",
       "      <td>1</td>\n",
       "      <td>0</td>\n",
       "      <td>0</td>\n",
       "      <td>0</td>\n",
       "      <td>retweeted</td>\n",
       "      <td>1493332404353777670</td>\n",
       "      <td>None</td>\n",
       "      <td>{'mentions': [{'start': 3, 'end': 14, 'usernam...</td>\n",
       "      <td>None</td>\n",
       "    </tr>\n",
       "    <tr>\n",
       "      <th>4</th>\n",
       "      <td>1493332760458678279</td>\n",
       "      <td>1148667397303349254</td>\n",
       "      <td>2022-02-14T21:14:09.000Z</td>\n",
       "      <td>1493332760458678279</td>\n",
       "      <td>RT @favouryuwa: Everybody is loosing weight in...</td>\n",
       "      <td>2</td>\n",
       "      <td>0</td>\n",
       "      <td>0</td>\n",
       "      <td>0</td>\n",
       "      <td>retweeted</td>\n",
       "      <td>1492932395670163456</td>\n",
       "      <td>None</td>\n",
       "      <td>{'mentions': [{'start': 3, 'end': 14, 'usernam...</td>\n",
       "      <td>None</td>\n",
       "    </tr>\n",
       "  </tbody>\n",
       "</table>\n",
       "</div>"
      ],
      "text/plain": [
       "              tweet_id            author_id          tweet_created_at  \\\n",
       "0  1493332804993699841  1417926026831794185  2022-02-14T21:14:20.000Z   \n",
       "1  1493332804876349443   794162692311265281  2022-02-14T21:14:20.000Z   \n",
       "2  1493332803349630976   852039149037076480  2022-02-14T21:14:19.000Z   \n",
       "3  1493332796516884482            373561824  2022-02-14T21:14:18.000Z   \n",
       "4  1493332760458678279  1148667397303349254  2022-02-14T21:14:09.000Z   \n",
       "\n",
       "       conversation_id                                               text  \\\n",
       "0  1493332804993699841  RT @ProfPatch83: More than 40% of food in the ...   \n",
       "1  1493332804876349443  Want the benefits of a healthy #WholeFood diet...   \n",
       "2  1493332803349630976  The clean eating plan ebook: You'll Find Out H...   \n",
       "3  1493332796516884482  RT @docsquiddy: at least when disney removes t...   \n",
       "4  1493332760458678279  RT @favouryuwa: Everybody is loosing weight in...   \n",
       "\n",
       "  retweets replies likes quotes type_reference     referenced_tweet  \\\n",
       "0        1       0     0      0      retweeted  1493049922932858880   \n",
       "1        0       0     0      0           None                 None   \n",
       "2        0       0     0      0           None                 None   \n",
       "3        1       0     0      0      retweeted  1493332404353777670   \n",
       "4        2       0     0      0      retweeted  1492932395670163456   \n",
       "\n",
       "  replied_to_user                                      mentions_dict  \\\n",
       "0            None  {'mentions': [{'start': 3, 'end': 15, 'usernam...   \n",
       "1            None                                               None   \n",
       "2            None                                               None   \n",
       "3            None  {'mentions': [{'start': 3, 'end': 14, 'usernam...   \n",
       "4            None  {'mentions': [{'start': 3, 'end': 14, 'usernam...   \n",
       "\n",
       "  thread_dict  \n",
       "0        None  \n",
       "1        None  \n",
       "2        None  \n",
       "3        None  \n",
       "4        None  "
      ]
     },
     "execution_count": 110,
     "metadata": {},
     "output_type": "execute_result"
    }
   ],
   "source": [
    "df_tweets.head()"
   ]
  },
  {
   "cell_type": "markdown",
   "id": "b44c5943-9077-4156-ad09-c9a19ca5aeac",
   "metadata": {},
   "source": [
    "Now want to look at whether \"moralistic\" language is being used? "
   ]
  },
  {
   "cell_type": "code",
   "execution_count": null,
   "id": "b2adf3a9-0d31-410b-a1d3-0688910f04f6",
   "metadata": {},
   "outputs": [],
   "source": []
  }
 ],
 "metadata": {
  "kernelspec": {
   "display_name": "Python 3 (ipykernel)",
   "language": "python",
   "name": "python3"
  },
  "language_info": {
   "codemirror_mode": {
    "name": "ipython",
    "version": 3
   },
   "file_extension": ".py",
   "mimetype": "text/x-python",
   "name": "python",
   "nbconvert_exporter": "python",
   "pygments_lexer": "ipython3",
   "version": "3.8.8"
  }
 },
 "nbformat": 4,
 "nbformat_minor": 5
}
